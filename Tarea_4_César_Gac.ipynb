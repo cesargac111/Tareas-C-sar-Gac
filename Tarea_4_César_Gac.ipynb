{
  "cells": [
    {
      "cell_type": "markdown",
      "metadata": {},
      "source": [
        "# \n",
        "\n",
        "Tarea 4.4"
      ],
      "id": "807a5126-1747-4207-afc4-ab45e93b6b65"
    },
    {
      "cell_type": "code",
      "execution_count": 1,
      "metadata": {},
      "outputs": [],
      "source": [
        "import numpy as np\n",
        "from scipy.integrate import quad\n",
        "import matplotlib.pyplot as plt"
      ],
      "id": "ff5fc31c"
    },
    {
      "cell_type": "code",
      "execution_count": 2,
      "metadata": {},
      "outputs": [
        {
          "output_type": "stream",
          "name": "stdout",
          "text": [
            "Momento ⟨x^3⟩ = 0.000000 (error estimado = 0.00e+00)\n",
            "Momento ⟨x^4⟩ = 1.424408 (error estimado = 2.05e-06)"
          ]
        },
        {
          "output_type": "stream",
          "name": "stderr",
          "text": [
            "/tmp/ipykernel_592908/1313905851.py:15: IntegrationWarning: The integral is probably divergent, or slowly convergent.\n",
            "  result, error = quad(moment_integrand, -np.inf, np.inf, args=(l, gamma), limit=100)"
          ]
        }
      ],
      "source": [
        "# Parámetro de la distribución de Cauchy\n",
        "gamma = 1\n",
        "\n",
        "# Definimos la distribución de Cauchy\n",
        "def cauchy_pdf(x, gamma):\n",
        "    return (1 / np.pi) * (gamma / (x**2 + gamma**2))\n",
        "\n",
        "# Funciones para los momentos\n",
        "def moment_integrand(x, l, gamma):\n",
        "    return x**l * cauchy_pdf(x, gamma)\n",
        "\n",
        "# Calculamos los momentos\n",
        "for l in [3, 4]:\n",
        "    try:\n",
        "        result, error = quad(moment_integrand, -np.inf, np.inf, args=(l, gamma), limit=100)\n",
        "        print(f\"Momento ⟨x^{l}⟩ = {result:.6f} (error estimado = {error:.2e})\")\n",
        "    except Exception as e:\n",
        "        print(f\"Momento ⟨x^{l}⟩ no se pudo calcular: {e}\")"
      ],
      "id": "19dab0b2"
    },
    {
      "cell_type": "markdown",
      "metadata": {},
      "source": [
        "En colcusion, X^3 da cero porque la función es simetrica, sin embargo,\n",
        "X^4 no logra converger, ya que, la cola de la distribución de Cauchy es\n",
        "demasiado pesada para permitir momentos de orden ≥ 1\n",
        "\n",
        "## Nota: 7.0"
      ],
      "id": "4cab68f1-ec3c-4c6d-9166-ebee58efe647"
    }
  ],
  "nbformat": 4,
  "nbformat_minor": 5,
  "metadata": {
    "kernelspec": {
      "name": "python3",
      "display_name": "Python 3 (ipykernel)",
      "language": "python",
      "path": "/home/jnorena/miniforge3/envs/xgboost/share/jupyter/kernels/python3"
    }
  }
}