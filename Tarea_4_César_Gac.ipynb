{
  "nbformat": 4,
  "nbformat_minor": 0,
  "metadata": {
    "colab": {
      "provenance": []
    },
    "kernelspec": {
      "name": "python3",
      "display_name": "Python 3"
    },
    "language_info": {
      "name": "python"
    }
  },
  "cells": [
    {
      "cell_type": "markdown",
      "source": [
        "Tarea 4.4"
      ],
      "metadata": {
        "id": "iNA51gzCBzLO"
      }
    },
    {
      "cell_type": "code",
      "execution_count": 1,
      "metadata": {
        "id": "eKPGFrnS3dK3"
      },
      "outputs": [],
      "source": [
        "import numpy as np\n",
        "from scipy.integrate import quad\n",
        "import matplotlib.pyplot as plt\n"
      ]
    },
    {
      "cell_type": "code",
      "source": [
        "# Parámetro de la distribución de Cauchy\n",
        "gamma = 1\n",
        "\n",
        "# Definimos la distribución de Cauchy\n",
        "def cauchy_pdf(x, gamma):\n",
        "    return (1 / np.pi) * (gamma / (x**2 + gamma**2))\n",
        "\n",
        "# Funciones para los momentos\n",
        "def moment_integrand(x, l, gamma):\n",
        "    return x**l * cauchy_pdf(x, gamma)\n",
        "\n",
        "# Calculamos los momentos\n",
        "for l in [3, 4]:\n",
        "    try:\n",
        "        result, error = quad(moment_integrand, -np.inf, np.inf, args=(l, gamma), limit=100)\n",
        "        print(f\"Momento ⟨x^{l}⟩ = {result:.6f} (error estimado = {error:.2e})\")\n",
        "    except Exception as e:\n",
        "        print(f\"Momento ⟨x^{l}⟩ no se pudo calcular: {e}\")\n"
      ],
      "metadata": {
        "colab": {
          "base_uri": "https://localhost:8080/"
        },
        "id": "qcP0f-Fc9kdO",
        "outputId": "d2c0c028-f7a4-4adc-d129-454741ee319d"
      },
      "execution_count": 3,
      "outputs": [
        {
          "output_type": "stream",
          "name": "stdout",
          "text": [
            "Momento ⟨x^3⟩ = 0.000000 (error estimado = 0.00e+00)\n",
            "Momento ⟨x^4⟩ = 1.424408 (error estimado = 2.05e-06)\n"
          ]
        },
        {
          "output_type": "stream",
          "name": "stderr",
          "text": [
            "/tmp/ipython-input-1754782801.py:15: IntegrationWarning: The integral is probably divergent, or slowly convergent.\n",
            "  result, error = quad(moment_integrand, -np.inf, np.inf, args=(l, gamma), limit=100)\n"
          ]
        }
      ]
    },
    {
      "cell_type": "markdown",
      "source": [
        "En colcusion, X^3 da cero porque la función es simetrica, sin embargo, X^4 no logra converger, ya que, la cola de la distribución de Cauchy es demasiado pesada para permitir momentos de orden ≥ 1"
      ],
      "metadata": {
        "id": "aF7NUWtnAsVI"
      }
    },
    {
      "cell_type": "code",
      "source": [],
      "metadata": {
        "id": "OsZnylfpByI6"
      },
      "execution_count": null,
      "outputs": []
    }
  ]
}