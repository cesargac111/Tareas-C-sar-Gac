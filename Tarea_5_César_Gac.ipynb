{
  "nbformat": 4,
  "nbformat_minor": 0,
  "metadata": {
    "colab": {
      "provenance": []
    },
    "kernelspec": {
      "name": "python3",
      "display_name": "Python 3"
    },
    "language_info": {
      "name": "python"
    }
  },
  "cells": [
    {
      "cell_type": "code",
      "execution_count": 3,
      "metadata": {
        "colab": {
          "base_uri": "https://localhost:8080/"
        },
        "id": "5CUhqRqgn8cu",
        "outputId": "6e180f9e-7805-4393-b8c9-b9cafee825bd"
      },
      "outputs": [
        {
          "output_type": "stream",
          "name": "stdout",
          "text": [
            "Lambda encontrado: 0.05000\n",
            "Distribución de probabilidad (p(x)):\n",
            "x=-11, p=0.00030\n",
            "x=-10, p=0.00085\n",
            "x= -9, p=0.00220\n",
            "x= -8, p=0.00514\n",
            "x= -7, p=0.01089\n",
            "x= -6, p=0.02085\n",
            "x= -5, p=0.03614\n",
            "x= -4, p=0.05669\n",
            "x= -3, p=0.08044\n",
            "x= -2, p=0.10329\n",
            "x= -1, p=0.12000\n",
            "x=  0, p=0.12616\n",
            "x=  1, p=0.12000\n",
            "x=  2, p=0.10329\n",
            "x=  3, p=0.08044\n",
            "x=  4, p=0.05669\n",
            "x=  5, p=0.03614\n",
            "x=  6, p=0.02085\n",
            "x=  7, p=0.01089\n",
            "x=  8, p=0.00514\n",
            "x=  9, p=0.00220\n",
            "x= 10, p=0.00085\n",
            "x= 11, p=0.00030\n"
          ]
        }
      ],
      "source": [
        "from posixpath import altsep\n",
        "import numpy as np\n",
        "from scipy.optimize import bisect\n",
        "\n",
        "# Función para calcular Z y Varianza\n",
        "def moments(lmbda, M):\n",
        "    xs = np.arange(-M, M+1)\n",
        "    Alpha = np.exp(-lmbda * xs**2)\n",
        "    Z = np.sum(Alpha)\n",
        "    var = np.sum(xs**2 * Alpha) / Z\n",
        "    return Z, var\n",
        "\n",
        "# Dada una varianza sigma2, encontrar lambda\n",
        "def find_lambda(sigma2, M=50):\n",
        "    # función cuya raíz buscamos: Var(lambda) - sigma2 = 0\n",
        "    f = lambda lmbda: moments(lmbda, M)[1] - sigma2\n",
        "    # buscamos raíz en [1e-6, 10]\n",
        "    lmbda = bisect(f, 1e-6, 10)\n",
        "    return lmbda\n",
        "\n",
        "# Construimos la distribución máxima entropía\n",
        "def maxent_distribution(sigma2, M=50):\n",
        "    lmbda = find_lambda(sigma2, M)\n",
        "    xs = np.arange(-M, M+1)\n",
        "    Alpha = np.exp(-lmbda * xs**2)\n",
        "    Z = np.sum(Alpha)\n",
        "    ps = Alpha / Z\n",
        "    return xs, ps, lmbda\n",
        "\n",
        "# Ejemplo\n",
        "if __name__ == \"__main__\":\n",
        "    sigma2 = 10  # varianza deseada\n",
        "    xs, ps, lmbda = maxent_distribution(sigma2)\n",
        "\n",
        "    print(f\"Lambda encontrado: {lmbda:.5f}\")\n",
        "    print(\"Distribución de probabilidad (p(x)):\")\n",
        "    for x, p in zip(xs, ps):\n",
        "        if p > 1e-4:\n",
        "            print(f\"x={x:3d}, p={p:.5f}\")\n"
      ]
    },
    {
      "cell_type": "code",
      "source": [],
      "metadata": {
        "id": "gDe_Ay6poA4_"
      },
      "execution_count": null,
      "outputs": []
    }
  ]
}