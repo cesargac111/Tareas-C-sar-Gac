{
  "cells": [
    {
      "cell_type": "markdown",
      "metadata": {},
      "source": [
        "# Tarea 6.3\n",
        "\n",
        "Busque un ejemplo de una función tal que el método de bisección con la\n",
        "condición \\$ \\| p\\_{n}- p\\_{n-1}\\|/\\| p\\_{n}\\|\\< \\$ converge siempre a\n",
        "un valor que no es un cero de la función.\n",
        "\n",
        "Un ejemplo es la función: \\$ f(x)=x^{2}+1\\$ en el intervalo\n",
        "$\\left [ -1,1 \\right]$ La funcion no tiene ceros reales ($f(x)\\geq 1$\n",
        "para todo x). Si aplico la bisección sin comprobar $f(a)\\cdot f(b)< 0$\n",
        "obtengo el punto medio. La condición se satisface sin que el limite sea\n",
        "cero."
      ],
      "id": "eaf1acab-f7f3-4559-a70e-b96d7b41531b"
    },
    {
      "cell_type": "code",
      "execution_count": 1,
      "metadata": {},
      "outputs": [
        {
          "output_type": "stream",
          "name": "stdout",
          "text": [
            "p aproximado: -0.9999999925494194\n",
            "f(p): 1.9999999850988388\n",
            "Últimos puntos: [-0.9999997615814209, -0.9999998807907104, -0.9999999403953552, -0.9999999701976776, -0.9999999850988388, -0.9999999925494194]"
          ]
        }
      ],
      "source": [
        "def bad_bisection(f, a, b, eps=1e-6, maxit=100):\n",
        "    p_prev = a\n",
        "    p = 0.5*(a+b)\n",
        "    history = [p_prev, p]\n",
        "    for i in range(2, maxit+1): # algoritmo defectuoso: NO comprueba f(a)*f(b)<0 ni usa signo de f(mid)\n",
        "        b = p            # (elección arbitraria, sólo para ilustrar)\n",
        "        p_next = 0.5*(a+b)\n",
        "        history.append(p_next)\n",
        "        if abs(p_next - p)/ (abs(p_next) if abs(p_next)>0 else 1e-20) < eps:\n",
        "            return p_next, history\n",
        "        p = p_next\n",
        "    return p, history\n",
        "\n",
        "f = lambda x: x**2 + 1\n",
        "p, hist = bad_bisection(f, -1, 1, eps=1e-8, maxit=100)\n",
        "print(\"p aproximado:\", p)\n",
        "print(\"f(p):\", f(p))\n",
        "print(\"Últimos puntos:\", hist[-6:])"
      ],
      "id": "57af508e"
    },
    {
      "cell_type": "markdown",
      "metadata": {},
      "source": [
        "## Nota: 5.0\n",
        "\n",
        "Esta función no converge. Escoger $f(a)\\cdot f(b)< 0$ es parte del\n",
        "algoritmo."
      ],
      "id": "ac72d30a-eca5-4539-822a-72996c38cbed"
    }
  ],
  "nbformat": 4,
  "nbformat_minor": 5,
  "metadata": {
    "kernelspec": {
      "name": "python3",
      "display_name": "Python 3 (ipykernel)",
      "language": "python",
      "path": "/home/jnorena/miniforge3/envs/xgboost/share/jupyter/kernels/python3"
    },
    "language_info": {
      "name": "python",
      "codemirror_mode": {
        "name": "ipython",
        "version": "3"
      },
      "file_extension": ".py",
      "mimetype": "text/x-python",
      "nbconvert_exporter": "python",
      "pygments_lexer": "ipython3",
      "version": "3.12.11"
    }
  }
}