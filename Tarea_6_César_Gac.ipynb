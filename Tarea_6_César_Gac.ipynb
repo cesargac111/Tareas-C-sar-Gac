{
  "nbformat": 4,
  "nbformat_minor": 0,
  "metadata": {
    "colab": {
      "provenance": []
    },
    "kernelspec": {
      "name": "python3",
      "display_name": "Python 3"
    },
    "language_info": {
      "name": "python"
    }
  },
  "cells": [
    {
      "cell_type": "markdown",
      "source": [
        "# Tarea 6.3\n",
        "Busque un ejemplo de una función tal que el método de bisección con la condición $ \\left | p_{n}- p_{n-1}\\right |/\\left | p_{n}\\right |< \\epsilon $\n",
        " converge siempre a un valor que no es un cero de la función."
      ],
      "metadata": {
        "id": "ttJ28DTR2xHY"
      }
    },
    {
      "cell_type": "markdown",
      "source": [
        "Un ejemplo es la función:\n",
        "$ f(x)=x^{2}+1$ en el intervalo $\\left [ -1,1 \\right]$ La funcion no tiene ceros reales ($f(x)\\geq 1$ para todo x).\n",
        "Si aplico la bisección sin comprobar $f(a)\\cdot f(b)< 0$ obtengo el punto medio. La condición se satisface sin que el limite sea cero."
      ],
      "metadata": {
        "id": "d5Ob4tWjEU0H"
      }
    },
    {
      "cell_type": "code",
      "source": [
        "def bad_bisection(f, a, b, eps=1e-6, maxit=100):\n",
        "    p_prev = a\n",
        "    p = 0.5*(a+b)\n",
        "    history = [p_prev, p]\n",
        "    for i in range(2, maxit+1): # algoritmo defectuoso: NO comprueba f(a)*f(b)<0 ni usa signo de f(mid)\n",
        "        b = p            # (elección arbitraria, sólo para ilustrar)\n",
        "        p_next = 0.5*(a+b)\n",
        "        history.append(p_next)\n",
        "        if abs(p_next - p)/ (abs(p_next) if abs(p_next)>0 else 1e-20) < eps:\n",
        "            return p_next, history\n",
        "        p = p_next\n",
        "    return p, history\n",
        "\n",
        "f = lambda x: x**2 + 1\n",
        "p, hist = bad_bisection(f, -1, 1, eps=1e-8, maxit=100)\n",
        "print(\"p aproximado:\", p)\n",
        "print(\"f(p):\", f(p))\n",
        "print(\"Últimos puntos:\", hist[-6:])\n"
      ],
      "metadata": {
        "colab": {
          "base_uri": "https://localhost:8080/"
        },
        "id": "CbVejW2H3Pte",
        "outputId": "626a9d89-05b4-4a23-90e0-fe2f10544a11"
      },
      "execution_count": 2,
      "outputs": [
        {
          "output_type": "stream",
          "name": "stdout",
          "text": [
            "p aproximado: -0.9999999925494194\n",
            "f(p): 1.9999999850988388\n",
            "Últimos puntos: [-0.9999997615814209, -0.9999998807907104, -0.9999999403953552, -0.9999999701976776, -0.9999999850988388, -0.9999999925494194]\n"
          ]
        }
      ]
    },
    {
      "cell_type": "code",
      "source": [],
      "metadata": {
        "id": "3gRzbphZ6TKf"
      },
      "execution_count": null,
      "outputs": []
    }
  ]
}