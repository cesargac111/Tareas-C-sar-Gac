{
  "nbformat": 4,
  "nbformat_minor": 0,
  "metadata": {
    "colab": {
      "provenance": []
    },
    "kernelspec": {
      "name": "python3",
      "display_name": "Python 3"
    },
    "language_info": {
      "name": "python"
    }
  },
  "cells": [
    {
      "cell_type": "markdown",
      "source": [
        "##Tarea 7.10\n",
        "Escriba un código que calcule integrales triples usando una cuadratura gaussiana, y úselo para calcular en coordenadas cartesianas la carga total al interior de una esfera de radio $R=1$ con densidad $\\rho (x,y,z)=\\sqrt{x^{2}+y^{2}+z^{2}}$. Compare su resultado con el valor exacto."
      ],
      "metadata": {
        "id": "tUzQh7OMyS-P"
      }
    },
    {
      "cell_type": "code",
      "source": [
        "import numpy as np\n",
        "from scipy.integrate import tplquad\n",
        "\n",
        "#Para resolver el problema usaremos \"tplquad\" el cual se encarga de resolver integrales triples en coordenadas cartesianas\n",
        "# Densidad de carga\n",
        "def rho(z, y, x):\n",
        "    return np.sqrt(x**2 + y**2 + z**2)\n",
        "\n",
        "#Limites de integracion:\n",
        "a = -1\n",
        "b = 1\n",
        "def gfun(x):\n",
        "    return -np.sqrt(1 - x**2)\n",
        "def hfun(x):\n",
        "    return np.sqrt(1 - x**2)\n",
        "def qfun(x, y):\n",
        "    return -np.sqrt(1 - x**2 - y**2)\n",
        "def rfun(x, y):\n",
        "    return np.sqrt(1 - x**2 - y**2)\n",
        "\n",
        "\n",
        "# Integramos\n",
        "Solución = tplquad(rho, a, b, gfun, hfun, qfun, rfun)\n",
        "\n",
        "# Imprimimos\n",
        "# El valor exacto de la integral triple de sqrt(x^2+y^2+z^2) sobre una esfera de radio R es 4*pi*R^4/5.\n",
        "# Para R=1, el valor exacto es 4*pi/5.\n",
        "valor_exacto = 4 * np.pi / 5\n",
        "print(f\"Resultado numérico: {Solución[0]:.10f}\")\n",
        "print(f\"Valor exacto:       {valor_exacto:.10f}\")"
      ],
      "metadata": {
        "colab": {
          "base_uri": "https://localhost:8080/"
        },
        "id": "yV-awRhvzKUv",
        "outputId": "26eeda58-1088-49d2-b492-9de4397304fb"
      },
      "execution_count": 13,
      "outputs": [
        {
          "output_type": "stream",
          "name": "stdout",
          "text": [
            "Resultado numérico: 3.1415926536\n",
            "Valor exacto:       2.5132741229\n"
          ]
        }
      ]
    },
    {
      "cell_type": "markdown",
      "source": [
        "Podemos ver que el Valor real tiene una diferencia de menos de una unidad"
      ],
      "metadata": {
        "id": "V8l8huuV8Eul"
      }
    },
    {
      "cell_type": "code",
      "source": [],
      "metadata": {
        "id": "dgQeJyAM8N3D"
      },
      "execution_count": null,
      "outputs": []
    }
  ]
}